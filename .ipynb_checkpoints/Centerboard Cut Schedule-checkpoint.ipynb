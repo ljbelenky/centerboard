{
 "cells": [
  {
   "cell_type": "code",
   "execution_count": 1,
   "metadata": {},
   "outputs": [],
   "source": [
    "import numpy as np\n",
    "import matplotlib.pyplot as plt\n",
    "import pandas as pd"
   ]
  },
  {
   "cell_type": "code",
   "execution_count": 2,
   "metadata": {},
   "outputs": [],
   "source": [
    "x = np.linspace(0,1, 1001)"
   ]
  },
  {
   "cell_type": "code",
   "execution_count": 3,
   "metadata": {},
   "outputs": [],
   "source": [
    "t = .3"
   ]
  },
  {
   "cell_type": "code",
   "execution_count": 4,
   "metadata": {},
   "outputs": [],
   "source": [
    "y = 5*t*(.2969*x**.5 - .126*x-.3516*x**2 + .2843*x**3 - .1015*x**4)"
   ]
  },
  {
   "cell_type": "code",
   "execution_count": 5,
   "metadata": {},
   "outputs": [],
   "source": [
    "foil = pd.DataFrame({'x':x,'y':y})"
   ]
  },
  {
   "cell_type": "code",
   "execution_count": 6,
   "metadata": {},
   "outputs": [],
   "source": [
    "number_of_dados = 12"
   ]
  },
  {
   "cell_type": "code",
   "execution_count": 7,
   "metadata": {},
   "outputs": [],
   "source": [
    "n = len(x)//number_of_dados\n",
    "xx = x[::n]\n",
    "yy = y[::n]"
   ]
  },
  {
   "cell_type": "code",
   "execution_count": 8,
   "metadata": {},
   "outputs": [
    {
     "data": {
      "text/plain": [
       "(-0.06064229390681003,\n",
       " 1.05664229390681,\n",
       " -0.16924233832841218,\n",
       " 0.1652472376188942)"
      ]
     },
     "execution_count": 8,
     "metadata": {},
     "output_type": "execute_result"
    },
    {
     "data": {
      "image/png": "[encoded data removed]",
      "text/plain": [
       "<Figure size 432x288 with 1 Axes>"
      ]
     },
     "metadata": {
      "needs_background": "light"
     },
     "output_type": "display_data"
    }
   ],
   "source": [
    "fig, ax = plt.subplots()\n",
    "ax.plot(x,y, color = 'blue')\n",
    "ax.plot(x,-y, color = 'blue')\n",
    "plt.scatter(xx,-yy)\n",
    "ax.axis('equal')"
   ]
  },
  {
   "cell_type": "code",
   "execution_count": 9,
   "metadata": {},
   "outputs": [],
   "source": [
    "def max_thickness_over_range(row):\n",
    "    f = foil[(row.left <= foil['x']) & (foil['x'] <= row.right)]\n",
    "    return f['y'].max()\n",
    "    "
   ]
  },
  {
   "cell_type": "code",
   "execution_count": 10,
   "metadata": {},
   "outputs": [],
   "source": [
    "dado_plan = pd.DataFrame({'left':xx[:-1], 'right':xx[1:]})\n",
    "dado_plan['thickness'] = dado_plan.apply(max_thickness_over_range, axis = 1)\n",
    "T = .1\n",
    "dado_plan['depth_of_cut'] = T - dado_plan['thickness']"
   ]
  },
  {
   "cell_type": "code",
   "execution_count": 11,
   "metadata": {},
   "outputs": [
    {
     "data": {
      "text/html": [
       "<div>\n",
       "<style scoped>\n",
       "    .dataframe tbody tr th:only-of-type {\n",
       "        vertical-align: middle;\n",
       "    }\n",
       "\n",
       "    .dataframe tbody tr th {\n",
       "        vertical-align: top;\n",
       "    }\n",
       "\n",
       "    .dataframe thead th {\n",
       "        text-align: right;\n",
       "    }\n",
       "</style>\n",
       "<table border=\"1\" class=\"dataframe\">\n",
       "  <thead>\n",
       "    <tr style=\"text-align: right;\">\n",
       "      <th></th>\n",
       "      <th>left</th>\n",
       "      <th>right</th>\n",
       "      <th>thickness</th>\n",
       "      <th>depth_of_cut</th>\n",
       "    </tr>\n",
       "  </thead>\n",
       "  <tbody>\n",
       "    <tr>\n",
       "      <th>0</th>\n",
       "      <td>0.000</td>\n",
       "      <td>0.083</td>\n",
       "      <td>0.109220</td>\n",
       "      <td>-0.009220</td>\n",
       "    </tr>\n",
       "    <tr>\n",
       "      <th>1</th>\n",
       "      <td>0.083</td>\n",
       "      <td>0.166</td>\n",
       "      <td>0.137377</td>\n",
       "      <td>-0.037377</td>\n",
       "    </tr>\n",
       "    <tr>\n",
       "      <th>2</th>\n",
       "      <td>0.166</td>\n",
       "      <td>0.249</td>\n",
       "      <td>0.148467</td>\n",
       "      <td>-0.048467</td>\n",
       "    </tr>\n",
       "    <tr>\n",
       "      <th>3</th>\n",
       "      <td>0.249</td>\n",
       "      <td>0.332</td>\n",
       "      <td>0.150043</td>\n",
       "      <td>-0.050043</td>\n",
       "    </tr>\n",
       "    <tr>\n",
       "      <th>4</th>\n",
       "      <td>0.332</td>\n",
       "      <td>0.415</td>\n",
       "      <td>0.149484</td>\n",
       "      <td>-0.049484</td>\n",
       "    </tr>\n",
       "    <tr>\n",
       "      <th>5</th>\n",
       "      <td>0.415</td>\n",
       "      <td>0.498</td>\n",
       "      <td>0.143594</td>\n",
       "      <td>-0.043594</td>\n",
       "    </tr>\n",
       "    <tr>\n",
       "      <th>6</th>\n",
       "      <td>0.498</td>\n",
       "      <td>0.581</td>\n",
       "      <td>0.132665</td>\n",
       "      <td>-0.032665</td>\n",
       "    </tr>\n",
       "    <tr>\n",
       "      <th>7</th>\n",
       "      <td>0.581</td>\n",
       "      <td>0.664</td>\n",
       "      <td>0.117910</td>\n",
       "      <td>-0.017910</td>\n",
       "    </tr>\n",
       "    <tr>\n",
       "      <th>8</th>\n",
       "      <td>0.664</td>\n",
       "      <td>0.747</td>\n",
       "      <td>0.100124</td>\n",
       "      <td>-0.000124</td>\n",
       "    </tr>\n",
       "    <tr>\n",
       "      <th>9</th>\n",
       "      <td>0.747</td>\n",
       "      <td>0.830</td>\n",
       "      <td>0.079787</td>\n",
       "      <td>0.020213</td>\n",
       "    </tr>\n",
       "    <tr>\n",
       "      <th>10</th>\n",
       "      <td>0.830</td>\n",
       "      <td>0.913</td>\n",
       "      <td>0.057121</td>\n",
       "      <td>0.042879</td>\n",
       "    </tr>\n",
       "    <tr>\n",
       "      <th>11</th>\n",
       "      <td>0.913</td>\n",
       "      <td>0.996</td>\n",
       "      <td>0.032115</td>\n",
       "      <td>0.067885</td>\n",
       "    </tr>\n",
       "  </tbody>\n",
       "</table>\n",
       "</div>"
      ],
      "text/plain": [
       "     left  right  thickness  depth_of_cut\n",
       "0   0.000  0.083   0.109220     -0.009220\n",
       "1   0.083  0.166   0.137377     -0.037377\n",
       "2   0.166  0.249   0.148467     -0.048467\n",
       "3   0.249  0.332   0.150043     -0.050043\n",
       "4   0.332  0.415   0.149484     -0.049484\n",
       "5   0.415  0.498   0.143594     -0.043594\n",
       "6   0.498  0.581   0.132665     -0.032665\n",
       "7   0.581  0.664   0.117910     -0.017910\n",
       "8   0.664  0.747   0.100124     -0.000124\n",
       "9   0.747  0.830   0.079787      0.020213\n",
       "10  0.830  0.913   0.057121      0.042879\n",
       "11  0.913  0.996   0.032115      0.067885"
      ]
     },
     "execution_count": 11,
     "metadata": {},
     "output_type": "execute_result"
    }
   ],
   "source": [
    "dado_plan"
   ]
  },
  {
   "cell_type": "code",
   "execution_count": 12,
   "metadata": {},
   "outputs": [],
   "source": [
    "cut_x = dado_plan[['left','right']].values.flatten()\n",
    "cut_y = dado_plan[['thickness','thickness']].values.flatten()"
   ]
  },
  {
   "cell_type": "code",
   "execution_count": 13,
   "metadata": {},
   "outputs": [
    {
     "data": {
      "text/plain": [
       "(-0.05, 1.05, -0.1650474825834183, 0.1650474825834183)"
      ]
     },
     "execution_count": 13,
     "metadata": {},
     "output_type": "execute_result"
    },
    {
     "data": {
      "image/png": "[encoded data removed]",
      "text/plain": [
       "<Figure size 432x288 with 1 Axes>"
      ]
     },
     "metadata": {
      "needs_background": "light"
     },
     "output_type": "display_data"
    }
   ],
   "source": [
    "fig, ax = plt.subplots()\n",
    "\n",
    "ax.plot(cut_x, cut_y)\n",
    "ax.plot(x,y)\n",
    "ax.plot(cut_x, -cut_y)\n",
    "ax.plot(x,-y)\n",
    "ax.axis('equal')"
   ]
  },
  {
   "cell_type": "code",
   "execution_count": null,
   "metadata": {},
   "outputs": [],
   "source": []
  }
 ],
 "metadata": {
  "kernelspec": {
   "display_name": "Python 3",
   "language": "python",
   "name": "python3"
  },
  "language_info": {
   "codemirror_mode": {
    "name": "ipython",
    "version": 3
   },
   "file_extension": ".py",
   "mimetype": "text/x-python",
   "name": "python",
   "nbconvert_exporter": "python",
   "pygments_lexer": "ipython3",
   "version": "3.7.6"
  }
 },
 "nbformat": 4,
 "nbformat_minor": 4
}
